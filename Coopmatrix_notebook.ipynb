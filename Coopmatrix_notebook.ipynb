{
 "cells": [
  {
   "cell_type": "code",
   "execution_count": null,
   "id": "8353cab7-8fc8-4470-9a21-8f93d77910d2",
   "metadata": {},
   "outputs": [],
   "source": [
    "import pandas as pd\n",
    "import xlrd\n",
    "import numpy as np\n",
    "from pandas import DataFrame"
   ]
  },
  {
   "cell_type": "code",
   "execution_count": null,
   "id": "a85bd895-673b-4c18-a959-c8745b27ebc5",
   "metadata": {},
   "outputs": [],
   "source": [
    "df = pd.read_excel(\"actors germany only.xlsx\", skiprows=0)\n",
    "df.columns"
   ]
  },
  {
   "cell_type": "code",
   "execution_count": 3,
   "id": "ea6dec46-0764-4740-b361-87231796a299",
   "metadata": {},
   "outputs": [],
   "source": [
    "def import_project_list_from_text(file_name):\n",
    "# read the file as a list\n",
    "    file = open(file_name, encoding='UTF-8')\n",
    "    data = file.readlines()\n",
    "    # close the file\n",
    "    file.close()\n",
    "    return data\n",
    "   # return the content of the read file as list of strings "
   ]
  },
  {
   "cell_type": "code",
   "execution_count": null,
   "id": "5dfcfee8-443b-4379-8c05-325a7977b5d5",
   "metadata": {},
   "outputs": [],
   "source": [
    "Fuel_Cell_Based_Power_Generation = ['INSTITUT JOZEF STEFAN', 'INSTITUT FUER MIKROTECHNIK MAINZ GMBH (DE)',\n",
    "                                    'Powercell Sweden AB','FORSCHUNGSZENTRUM JULICH GMBH (DE)','VOLVO TECHNOLOGY AB', \n",
    "                                    'CENTRO RICERCHE FIAT SCPA', 'FRAUNHOFER GESELLSCHAFT ZUR FÖRDERUNG DER ANGEWANDTEN FORSCHUNG E.V. (DE)',\n",
    "                                    'JOHNSON MATTHEY PLC','MODELON AB']\n",
    "#https://cordis.europa.eu/project/id/277844\n",
    "Demonstration_of_1st_European_SOFC_Truck_APU = ['AVL LIST GMBH', 'EBERSPAECHER CLIMATE CONTROL SYSTEMS GMBH & CO KG','TOPSOE FUEL CELL A/S','VOLVO TECHNOLOGY AB','FORSCHUNGSZENTRUM JULICH GMBH']\n",
    "#https://cordis.europa.eu/project/id/278899\n",
    "IMproved_lifetiMe_stacks_fOR_heavy_duty_Trucks_through_ultrA_durabLe_components = [\n",
    "    'CENTRE NATIONAL DE LA RECHERCHE SCIENTIFIQUE CNRS','JOHNSON MATTHEY FUEL CELLS LIMITED','ROBERT BOSCH GMBH (DE)',\n",
    "    'FPT MOTORENFORSCHUNG AG','AVL LIST GMBH','ALBERT-LUDWIGS-UNIVERSITAET FREIBURG (DE)','PRETEXO'\n",
    "]\n",
    "#https://cordis.europa.eu/project/id/101006641\n",
    "Refuse_Vehicle_Innovation_and_Validation_in_Europe=[\n",
    "    'TRACTEBEL ENGINEERING','SEAB SERVIZI ENERGIA AMBIENTE BOLZANO SPA','AZIENDA SERVIZI MUNICIPALIZZATI DI MERANO SPA',\n",
    "    'SUEZ NEDERLAND HOLDING BV',\n",
    "    'GEMEENTE GRONINGEN','GEMEENTE BREDA','STAD ANTWERPEN','GEMEENTE AMSTERDAM',\n",
    "    'ELEMENT ENERGY LIMITED','COMMISSARIAT A L ENERGIE ATOMIQUE ET AUX ENERGIES ALTERNATIVES','WATERSTOFNET VZW',\n",
    "'SYMBIO',\n",
    "'E-TRUCKS EUROPE',\n",
    "'SWISS HYDROGEN SA',\n",
    "'SAVER NV',\n",
    "'Powercell Sweden AB',\n",
    "'RENOVA AKTIEBOLAG',\n",
    "'Proton Motor Fuel Cell GmbH (DE)',\n",
    "'GEMEENTE NOORDENVELD'\n",
    " ]\n",
    "#https://cordis.europa.eu/project/id/779589\n",
    "Protocol_for_heavy_duty_hydrogen_refuelling = import_project_list_from_text('Protocol for heavy duty hydrogen refuelling.txt')\n",
    "#https://cordis.europa.eu/project/id/874997\n",
    "TAnk_HYdrogen_Automotive = import_project_list_from_text('TAnk HYdrogen Automotive.txt')\n",
    "#https://cordis.europa.eu/project/id/779644\n",
    "Hydrogen_Mobility_Europe_2 = import_project_list_from_text('Hydrogen Mobility Europe 2.txt')\n",
    "#https://cordis.europa.eu/project/id/700350\n",
    "Standard_Sized_Heavy_duty_Hydrogen = import_project_list_from_text('Standard-Sized Heavy-duty Hydrogen.txt')\n",
    "#https://cordis.europa.eu/project/id/101005934\n",
    "Fuel_cell_power_trains_and_clustering_in_heavy_duty_transports = import_project_list_from_text('Fuel cell power trains and clustering in heavy-duty transports.txt')\n",
    "#https://cordis.europa.eu/project/id/516270\n",
    "Demonstration_of_1st_European_SOFC_Truck_APU = import_project_list_from_text('Demonstration of 1st European SOFC Truck APU.txt')\n",
    "#https://cordis.europa.eu/project/id/278899\n",
    "Hydrogen_fuel_cell_trucks_for_heavy_duty_zero_emission_logistics = import_project_list_from_text('Hydrogen fuel cell trucks for heavy-duty, zero emission logistics.txt')\n",
    "#https://cordis.europa.eu/project/id/826236\n",
    "Design_of_a_flexible_scalable_high_quality_production_line_for_PEMFC_manufacturing = import_project_list_from_text('Design of a flexible, scalable, high quality production line for PEMFC manufacturing.txt')\n",
    "#https://cordis.europa.eu/project/id/735367\n",
    "Daimler_Volvo_JV = import_project_list_from_text('Daimler and Volvo.txt') #inlcude Daimlers Joint Venture with Volvo to make cell.., MB also gets include \n",
    "H2_mobility_deutschland = import_project_list_from_text('H2mobility_duetsch.txt') #H2 Moblitly Deutschland and its partners  - https://h2.live/en/h2mobility/ \n",
    "Bosch_Power = import_project_list_from_text('BOSCH-POWERCELL.txt') #- https://www.bosch.com/stories/fuel-cell-stack/\n",
    "\n",
    "#defines the lists of the actros that have been active within certain projects or have worked togheter for a specific purpose"
   ]
  },
  {
   "cell_type": "code",
   "execution_count": 21,
   "id": "249af53b-76e4-449f-9592-4b89508cdb47",
   "metadata": {},
   "outputs": [],
   "source": [
    "projects_list = [Fuel_Cell_Based_Power_Generation,IMproved_lifetiMe_stacks_fOR_heavy_duty_Trucks_through_ultrA_durabLe_components,Refuse_Vehicle_Innovation_and_Validation_in_Europe]\n",
    "def strip_and_append_list(lists, end):\n",
    "#strips away the unwanted part of the strings and appends the list to a greater list\n",
    "    temp = []\n",
    "    for i in lists:\n",
    "        temp.append(i.rstrip())\n",
    "    return end.append(temp)\n",
    "strip_and_append_list(Protocol_for_heavy_duty_hydrogen_refuelling, projects_list)\n",
    "strip_and_append_list(TAnk_HYdrogen_Automotive, projects_list)\n",
    "strip_and_append_list(Hydrogen_Mobility_Europe_2, projects_list)\n",
    "strip_and_append_list(Standard_Sized_Heavy_duty_Hydrogen, projects_list)\n",
    "strip_and_append_list(Fuel_cell_power_trains_and_clustering_in_heavy_duty_transports, projects_list)\n",
    "strip_and_append_list(Demonstration_of_1st_European_SOFC_Truck_APU, projects_list)\n",
    "strip_and_append_list(Hydrogen_fuel_cell_trucks_for_heavy_duty_zero_emission_logistics, projects_list)\n",
    "strip_and_append_list(Design_of_a_flexible_scalable_high_quality_production_line_for_PEMFC_manufacturing, projects_list)\n",
    "strip_and_append_list(Daimler_Volvo_JV, projects_list)\n",
    "strip_and_append_list(H2_mobility_deutschland, projects_list)\n",
    "strip_and_append_list(Bosch_Power, projects_list)\n"
   ]
  },
  {
   "cell_type": "code",
   "execution_count": 23,
   "id": "b913a866-850b-4de8-b837-0955a01e5b5d",
   "metadata": {},
   "outputs": [],
   "source": [
    "def build_coop_matrix_part1(actor_list):\n",
    "#the function defines the size of the matrix    \n",
    "    for j in range((len(actor_list))):\n",
    "        for i in range(len(actor_list)):\n",
    "            df.loc[df['Actor/ Partner'] ==  actor_list[i], actor_list[j]] = 0\n",
    "    return df"
   ]
  },
  {
   "cell_type": "code",
   "execution_count": 22,
   "id": "dd2019dc-303c-4add-bb0a-67a92c9cbfb0",
   "metadata": {
    "tags": []
   },
   "outputs": [],
   "source": [
    "def build_coop_matrix_part2(actor_list):\n",
    "# defines if they have cooperated, 0 is no relationship, 1 or greater indicate 1 or more occations at which they have cooperated    \n",
    "    for j in range((len(actor_list))):\n",
    "        for i in range(len(actor_list)):\n",
    "            df.loc[df['Actor/ Partner'] ==  actor_list[i], actor_list[j]] =+ 1\n",
    "            df.loc[df['Actor/ Partner'] == actor_list[j], actor_list[j]] = 0\n",
    "    return df"
   ]
  },
  {
   "cell_type": "code",
   "execution_count": 24,
   "id": "0bd459b5-8773-48a8-a042-f5776d896f2a",
   "metadata": {},
   "outputs": [],
   "source": [
    "def feeder_2_parts(mega_list, list_funk1, list_funk2):\n",
    "    #feed the greater list of lists into first one function and thereafter turn non-values into 0 and therafter run the value allocation function\n",
    "    for k in mega_list:\n",
    "        list_funk1(k)\n",
    "    for i in df.columns:\n",
    "        df[i] = df[i].fillna(0)\n",
    "    for e in mega_list:\n",
    "        list_funk2(e)\n",
    "#"
   ]
  },
  {
   "cell_type": "code",
   "execution_count": null,
   "id": "dd698534-fcfc-42b8-8a9d-d2c3cad09100",
   "metadata": {},
   "outputs": [],
   "source": [
    "feeder_2_parts(projects_list, build_coop_matrix_part1, build_coop_matrix_part2)"
   ]
  },
  {
   "cell_type": "code",
   "execution_count": null,
   "id": "e50f8d7f-c089-44af-a5d1-22a9b0779e45",
   "metadata": {},
   "outputs": [],
   "source": [
    "df = df.set_index('Actor/ Partner') # set the original vector as index"
   ]
  },
  {
   "cell_type": "code",
   "execution_count": null,
   "id": "afa9bbb4-e181-4b0c-8dc2-c7f6ad1910c3",
   "metadata": {},
   "outputs": [],
   "source": [
    "df.to_excel('coop_matric_only_ger.xls', index = True) #save as xls file"
   ]
  }
 ],
 "metadata": {
  "kernelspec": {
   "display_name": "Python 3",
   "language": "python",
   "name": "python3"
  },
  "language_info": {
   "codemirror_mode": {
    "name": "ipython",
    "version": 3
   },
   "file_extension": ".py",
   "mimetype": "text/x-python",
   "name": "python",
   "nbconvert_exporter": "python",
   "pygments_lexer": "ipython3",
   "version": "3.8.8"
  }
 },
 "nbformat": 4,
 "nbformat_minor": 5
}
